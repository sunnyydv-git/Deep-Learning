{
 "cells": [
  {
   "cell_type": "code",
   "execution_count": 9,
   "id": "b604c9c7-cd76-48ad-b4b0-051eacaab6c9",
   "metadata": {},
   "outputs": [],
   "source": [
    "import torch\n",
    "import torch.nn as nn\n",
    "import torch.optim as optim\n",
    "import torchvision.transforms as transforms\n",
    "import torchvision"
   ]
  },
  {
   "cell_type": "markdown",
   "id": "2e839ee8-c4b5-431b-95cf-c53bdd7d7ae7",
   "metadata": {},
   "source": [
    "### L1 & L2 Regularization (Weight Decay)"
   ]
  },
  {
   "cell_type": "code",
   "execution_count": 10,
   "id": "6d6b3d34-0d3b-41e7-b73e-39f00a3d05c6",
   "metadata": {},
   "outputs": [
    {
     "name": "stdout",
     "output_type": "stream",
     "text": [
      "Epoch [1/3], Loss: 2.1749\n",
      "Epoch [2/3], Loss: 2.3909\n",
      "Epoch [3/3], Loss: 1.6803\n",
      "Test Accuracy on 10 Samples: 50.00%\n"
     ]
    }
   ],
   "source": [
    "device = torch.device(\"cuda\" if torch.cuda.is_available() else \"cpu\")\n",
    "\n",
    "model = nn.Sequential(\n",
    "    nn.Linear(784, 128),\n",
    "    nn.ReLU(),\n",
    "    nn.Linear(128, 64),\n",
    "    nn.ReLU(),\n",
    "    nn.Linear(64,10)\n",
    ").to(device)\n",
    "\n",
    "optimizer = optim.Adam(model.parameters(), weight_decay=0.01)   # L2 Regularization\n",
    "criterion = nn.CrossEntropyLoss()\n",
    "\n",
    "# Load MNIST dataset (but take only 10 samples)\n",
    "transform = transforms.Compose([transforms.ToTensor(), transforms.Normalize((0.5,), (0.5,))])\n",
    "\n",
    "full_train_dataset = torchvision.datasets.MNIST(root=\"./data\", train=True, transform=transform, download=True)\n",
    "\n",
    "# Select only the first 10 samples\n",
    "small_train_dataset = torch.utils.data.Subset(full_train_dataset, range(10))\n",
    "small_train_loader = torch.utils.data.DataLoader(small_train_dataset, batch_size=2, shuffle=True)\n",
    "\n",
    "\n",
    "# Training loop (only 3 epochs for quick results)\n",
    "epochs = 3\n",
    "for epoch in range(epochs):\n",
    "    for images, labels in small_train_loader:\n",
    "        images = images.view(-1, 28*28).to(device)  # Flatten images\n",
    "        labels = labels.to(device)\n",
    "\n",
    "        # Forward pass\n",
    "        outputs = model(images)\n",
    "        loss = criterion(outputs, labels)\n",
    "\n",
    "        # Backward pass\n",
    "        optimizer.zero_grad()\n",
    "        loss.backward()\n",
    "        optimizer.step()\n",
    "\n",
    "    print(f\"Epoch [{epoch+1}/{epochs}], Loss: {loss.item():.4f}\")\n",
    "\n",
    "# Test on the same 10 samples\n",
    "correct = 0\n",
    "total = 0\n",
    "with torch.no_grad():\n",
    "    for images, labels in small_train_loader:\n",
    "        images = images.view(-1, 28*28).to(device)\n",
    "        labels = labels.to(device)\n",
    "        outputs = model(images)\n",
    "\n",
    "        # Get predictions\n",
    "        _, predicted = torch.max(outputs, 1)\n",
    "        total += labels.size(0)\n",
    "        correct += (predicted == labels).sum().item()\n",
    "\n",
    "accuracy = 100 * correct / total\n",
    "print(f\"Test Accuracy on 10 Samples: {accuracy:.2f}%\")\n"
   ]
  },
  {
   "cell_type": "code",
   "execution_count": 3,
   "id": "632100d2-c5da-4325-8ec6-b850c5b83b67",
   "metadata": {},
   "outputs": [],
   "source": [
    "import torch.nn.functional as F"
   ]
  },
  {
   "cell_type": "markdown",
   "id": "2d6ff07f-2252-4128-8c8c-a8c363df2818",
   "metadata": {},
   "source": [
    "### Dropout Regularization"
   ]
  },
  {
   "cell_type": "code",
   "execution_count": 11,
   "id": "0f2d9b68-de74-4afc-b505-b58593e4b2c7",
   "metadata": {},
   "outputs": [
    {
     "name": "stdout",
     "output_type": "stream",
     "text": [
      "Epoch [1/3], Loss: 2.9188\n",
      "Epoch [2/3], Loss: 1.7094\n",
      "Epoch [3/3], Loss: 2.1067\n",
      "Test Accuracy on 10 Samples: 30.00%\n"
     ]
    }
   ],
   "source": [
    "class Net(nn.Module):\n",
    "    def __init__(self):\n",
    "        super(Net, self).__init__()\n",
    "        self.fc1 = nn.Linear(784, 128)\n",
    "        self.fc2 = nn.Linear(128, 64)\n",
    "        self.fc3 = nn.Linear(64, 10)\n",
    "        self.dropout = nn.Dropout(0.3)\n",
    "\n",
    "    def forward(self, x):\n",
    "        x = F.relu(self.fc1(x))\n",
    "        x = self.dropout(x)  # Apply dropout\n",
    "        x = F.relu(self.fc2(x))\n",
    "        x = self.dropout(x)\n",
    "        x = self.fc3(x)\n",
    "        return F.log_softmax(x, dim=1)\n",
    "\n",
    "model= Net().to(device)\n",
    "\n",
    "# Define optimizer and loss function\n",
    "optimizer = optim.Adam(model.parameters(), weight_decay=0.01)  # L2 Regularization\n",
    "criterion = nn.NLLLoss()  # Negative Log Likelihood Loss for classification\n",
    "\n",
    "# Load MNIST dataset (but use only 10 samples for quick training)\n",
    "transform = transforms.Compose([transforms.ToTensor(), transforms.Normalize((0.5,), (0.5,))])\n",
    "full_train_dataset = torchvision.datasets.MNIST(root=\"./data\", train=True, transform=transform, download=True)\n",
    "\n",
    "# Select only the first 10 samples\n",
    "small_train_dataset = torch.utils.data.Subset(full_train_dataset, range(10))\n",
    "small_train_loader = torch.utils.data.DataLoader(small_train_dataset, batch_size=2, shuffle=True)\n",
    "\n",
    "# Training loop (only 3 epochs for quick results)\n",
    "epochs = 3\n",
    "for epoch in range(epochs):\n",
    "    for images, labels in small_train_loader:\n",
    "        images = images.view(-1, 28*28).to(device)  # Flatten images\n",
    "        labels = labels.to(device)\n",
    "\n",
    "        # Forward pass\n",
    "        outputs = model(images)\n",
    "        loss = criterion(outputs, labels)\n",
    "\n",
    "        # Backward pass\n",
    "        optimizer.zero_grad()\n",
    "        loss.backward()\n",
    "        optimizer.step()\n",
    "\n",
    "    print(f\"Epoch [{epoch+1}/{epochs}], Loss: {loss.item():.4f}\")\n",
    "\n",
    "# Test on the same 10 samples\n",
    "correct = 0\n",
    "total = 0\n",
    "with torch.no_grad():\n",
    "    for images, labels in small_train_loader:\n",
    "        images = images.view(-1, 28*28).to(device)\n",
    "        labels = labels.to(device)\n",
    "        outputs = model(images)\n",
    "\n",
    "        # Get predictions\n",
    "        _, predicted = torch.max(outputs, 1)\n",
    "        total += labels.size(0)\n",
    "        correct += (predicted == labels).sum().item()\n",
    "\n",
    "accuracy = 100 * correct / total\n",
    "print(f\"Test Accuracy on 10 Samples: {accuracy:.2f}%\")\n"
   ]
  },
  {
   "cell_type": "code",
   "execution_count": null,
   "id": "59a081c0-1ecf-4a6e-8549-68bbe04063f5",
   "metadata": {},
   "outputs": [],
   "source": []
  }
 ],
 "metadata": {
  "kernelspec": {
   "display_name": "Python 3 (ipykernel)",
   "language": "python",
   "name": "python3"
  },
  "language_info": {
   "codemirror_mode": {
    "name": "ipython",
    "version": 3
   },
   "file_extension": ".py",
   "mimetype": "text/x-python",
   "name": "python",
   "nbconvert_exporter": "python",
   "pygments_lexer": "ipython3",
   "version": "3.8.20"
  }
 },
 "nbformat": 4,
 "nbformat_minor": 5
}
